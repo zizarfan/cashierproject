{
  "nbformat": 4,
  "nbformat_minor": 0,
  "metadata": {
    "colab": {
      "provenance": [],
      "authorship_tag": "ABX9TyOv+6Z/Rjo7FIZGE8zHv+ns",
      "include_colab_link": true
    },
    "kernelspec": {
      "name": "python3",
      "display_name": "Python 3"
    },
    "language_info": {
      "name": "python"
    }
  },
  "cells": [
    {
      "cell_type": "markdown",
      "metadata": {
        "id": "view-in-github",
        "colab_type": "text"
      },
      "source": [
        "<a href=\"https://colab.research.google.com/github/zizarfan/cashierproject/blob/master/Super_Cashier_Project_Ziza.ipynb\" target=\"_parent\"><img src=\"https://colab.research.google.com/assets/colab-badge.svg\" alt=\"Open In Colab\"/></a>"
      ]
    },
    {
      "cell_type": "code",
      "source": [],
      "metadata": {
        "id": "2S6kUZo7kD1_"
      },
      "execution_count": null,
      "outputs": []
    },
    {
      "cell_type": "code",
      "source": [
        "import pandas as pd\n",
        "import random\n",
        "\n",
        "class Transaction():\n",
        "  '''\n",
        "  Class Transaction berisi menu-menu untuk menjalankan\n",
        "  sistem kasir pada Online Supermarket\n",
        "  '''\n",
        "  __current_id = []\n",
        "\n",
        "  def __init__(self):\n",
        "    self.item_name = list()\n",
        "    self.item_qty = list()\n",
        "    self.item_price = list()\n",
        "    self.cart={}\n",
        "\n",
        "#Membuat ID transaction\n",
        "  def id_no(self):\n",
        "    id_generator = random.randint(11,99)\n",
        "    self.__current_id = id_generator\n",
        "    print(f':::Welcome to Online Supermarket::: \\n\\nYour ID Transaction number is {id_generator} \\n This 2-digit number will be added into the bill for unique code \\n\\n\\\n",
        "    1. To put items in shopping cart, use .add_item(<item name>, <item quantity>, <item price>)\\n\\\n",
        "    2. To check whether the entries are correct, use .check_order()\\n\\\n",
        "    3. To To delete items, use .delete_item()\\n\\\n",
        "    4. To delete all items, use .reset_transaction()\\n\\\n",
        "    5. To display the total bill, use .total_price() ')\n",
        "\n",
        "#Menambahkan item pada shopping cart\n",
        "  def add_item(self, nama, jumlah, harga):\n",
        "      self.item_name.append(nama.lower())\n",
        "      self.item_qty.append(jumlah)\n",
        "      self.item_price.append(harga)\n",
        "      for i in range(len(self.item_name)):\n",
        "        self.cart[self.item_name[i]] = [self.item_qty[i], self.item_price[i]]\n",
        "      print('Your order summary: \\n', self.cart)\n",
        "\n",
        "#Mengupdate nama item\n",
        "  def update_item_name(self, current_name, new_name):\n",
        "    if type(current_name) == str:\n",
        "      for i, item in enumerate(self.item_name):\n",
        "        if item == current_name.lower():\n",
        "          self.item_name[i] = new_name.lower()\n",
        "          print('Your change has been successfully updated.\\nTo check your order, please use def check_order()')\n",
        "    else:\n",
        "      print(\"Enter new item's name in a string data-type\")\n",
        "\n",
        "#Untuk cek hasil sementara (UJICOBA)\n",
        "  def order_summary(self):\n",
        "    cart = dict()\n",
        "    for i in range(len(self.item_name)):\n",
        "      cart[self.item_name[i]] = [self.item_qty[i], self.item_price[i]]\n",
        "    print('Your order summary: \\n', cart)\n",
        "\n",
        "\n",
        "#Menampilkan item apa saja yang ada pada shopping cart\n",
        "  def check_order(self):\n",
        "    for i in range(len(self.item_name)):\n",
        "      if type(self.item_name[i]) != str or type(self.item_qty[i]) != int or type(self.item_price[i]) != int or self.item_price[i] < 1 or self.item_qty[i] <1:\n",
        "        raise Exception('Warning: Errors in data entry - Please make sure you have input the data correctly. To see whats currently on your shopping cart, use .order_summary()')\n",
        "    print('All data entries are correct')\n",
        "\n",
        "    #Mencetak items pada shopping cart dalam tabel jika entry sudah sesuai\n",
        "    total_tag=[]\n",
        "    for i in range(len(self.item_name)):\n",
        "      x = self.item_qty[i] * self.item_price[i]\n",
        "      total_tag.append(x)\n",
        "\n",
        "    list_order = {'Item': self.item_name, 'Item Quantity': self.item_qty, 'Price/Item': self.item_price, 'Total': total_tag}\n",
        "\n",
        "    df = pd.DataFrame(list_order)\n",
        "    df.index = df.index + 1\n",
        "    return df\n",
        "\n",
        "#Mengupdate item quantity pada shopping cart\n",
        "  def update_item_qty(self, current_name, new_qty):\n",
        "    if type(new_qty) == int:\n",
        "      for i, item in enumerate(self.item_name):\n",
        "        if item == current_name.lower():\n",
        "          self.item_qty[i] = new_qty\n",
        "          print('Your change has been successfully updated.\\nTo check your order, please use def check_order()')\n",
        "    else:\n",
        "      print('Enter new quantity with positive integer')\n",
        "\n",
        "#Mengupdate item price pada shopping cart\n",
        "  def update_item_price(self, current_name, new_price):\n",
        "    if type(new_price) == int:\n",
        "      for i, item in enumerate(self.item_name):\n",
        "        if item == current_name.lower():\n",
        "          self.item_price[i] = new_price\n",
        "          print('Your change has been successfully updated.\\nTo check your order, please use def check_order()')\n",
        "    else:\n",
        "      print('Enter new price with positive integer')\n",
        "\n",
        "#Menghapus certain item pada cart\n",
        "  def delete_item(self, remove_key):\n",
        "    for i, item in enumerate(self.item_name):\n",
        "      if item == remove_key.lower:\n",
        "        self.item_name.pop(i)\n",
        "        self.item_qty.pop(i)\n",
        "        self.item_price.pop(i)\n",
        "        print(f'Item {item} has been removed from shopping cart')\n",
        "\n",
        "#Menghapus semua item pada cart\n",
        "  def reset_transaction(self):\n",
        "    self.item_name.clear()\n",
        "    self.item_qty.clear()\n",
        "    self.item_price.clear()\n",
        "    print('Your shopping cart is empty !')\n",
        "\n",
        "#Perhitungan total belanja\n",
        "  def total_price(self):\n",
        "    try:\n",
        "      total_bill = 0\n",
        "      for i in range(len(self.item_name)):\n",
        "        total_bill += self.item_price[i] * self.item_qty[i]\n",
        "      if total_bill > 200000:\n",
        "        total_bill = total_bill * 0.95 + self.__current_id\n",
        "      elif total_bill > 300000:\n",
        "        total_bill = total_bill * 0.92 + self.__current_id\n",
        "      elif total_bill > 500000:\n",
        "        total_bill = total_bill * 0.9 + self.__current_id\n",
        "      else:\n",
        "        total_bill = total_bill + self.__current_id\n",
        "      print(f'Here is your total amount of payment: Rp {total_bill}')\n",
        "    except (ValueError, TypeError):\n",
        "      print('Errors in data entry - Please make sure you have input item data in the shopping cart correctly.')\n"
      ],
      "metadata": {
        "id": "4mZi6LoYhCWl"
      },
      "execution_count": null,
      "outputs": []
    },
    {
      "cell_type": "code",
      "source": [
        "purchase = Transaction()\n",
        "purchase.id_no()"
      ],
      "metadata": {
        "id": "2ArDYQB_km34",
        "colab": {
          "base_uri": "https://localhost:8080/"
        },
        "outputId": "99e7abb3-a41e-4a75-a020-f1ac7668d72d"
      },
      "execution_count": null,
      "outputs": [
        {
          "output_type": "stream",
          "name": "stdout",
          "text": [
            ":::Welcome to Online Supermarket::: \n",
            "\n",
            "Your ID Transaction number is 22 \n",
            " This 2-digit number will be added into the bill for unique code \n",
            "\n",
            "    1. To put items in shopping cart, use .add_item(<item name>, <item quantity>, <item price>)\n",
            "    2. To check whether the entries are correct, use .check_order()\n",
            "    3. To To delete items, use .delete_item()\n",
            "    4. To delete all items, use .reset_transaction()\n",
            "    5. To display the total bill, use .total_price() \n"
          ]
        }
      ]
    },
    {
      "cell_type": "code",
      "source": [
        "purchase.add_item('Ayam goreng', 2, 20_000)\n",
        "purchase.add_item('Pasta gigi', 3, 15_000)"
      ],
      "metadata": {
        "colab": {
          "base_uri": "https://localhost:8080/"
        },
        "id": "C0Y7TGAIEGdo",
        "outputId": "5ff32790-490e-49f4-eec9-2987e35e5481"
      },
      "execution_count": null,
      "outputs": [
        {
          "output_type": "stream",
          "name": "stdout",
          "text": [
            "Your order summary: \n",
            " {'ayam goreng': [2, 20000]}\n",
            "Your order summary: \n",
            " {'ayam goreng': [2, 20000], 'pasta gigi': [3, 15000]}\n"
          ]
        }
      ]
    },
    {
      "cell_type": "code",
      "source": [
        "purchase.update_item_name('Ayam goreng', \"fried chicken\")\n",
        "purchase.update_item_qty('Pasta gigi', 'a')\n",
        "purchase.update_item_price('Pasta gigi', 20000)"
      ],
      "metadata": {
        "colab": {
          "base_uri": "https://localhost:8080/"
        },
        "id": "5a4SSKqTEbEJ",
        "outputId": "56b7f2b0-d59c-446d-d823-1f923762557f"
      },
      "execution_count": null,
      "outputs": [
        {
          "output_type": "stream",
          "name": "stdout",
          "text": [
            "Your change has been successfully updated.\n",
            "To check your order, please use def check_order()\n",
            "Enter new quantity with positive integer\n",
            "Your change has been successfully updated.\n",
            "To check your order, please use def check_order()\n"
          ]
        }
      ]
    },
    {
      "cell_type": "code",
      "source": [
        "purchase.check_order()"
      ],
      "metadata": {
        "colab": {
          "base_uri": "https://localhost:8080/",
          "height": 129
        },
        "id": "8vE387eJG6Y6",
        "outputId": "6295e0d4-f489-4f22-d63b-75ed9af8f2fb"
      },
      "execution_count": null,
      "outputs": [
        {
          "output_type": "stream",
          "name": "stdout",
          "text": [
            "All data entries are correct\n"
          ]
        },
        {
          "output_type": "execute_result",
          "data": {
            "text/plain": [
              "            Item  Item Quantity  Price/Item  Total\n",
              "1  fried chicken              2       20000  40000\n",
              "2     pasta gigi              3       20000  60000"
            ],
            "text/html": [
              "\n",
              "  <div id=\"df-0ca0574b-b16d-4373-a6cf-4db2c12c4256\">\n",
              "    <div class=\"colab-df-container\">\n",
              "      <div>\n",
              "<style scoped>\n",
              "    .dataframe tbody tr th:only-of-type {\n",
              "        vertical-align: middle;\n",
              "    }\n",
              "\n",
              "    .dataframe tbody tr th {\n",
              "        vertical-align: top;\n",
              "    }\n",
              "\n",
              "    .dataframe thead th {\n",
              "        text-align: right;\n",
              "    }\n",
              "</style>\n",
              "<table border=\"1\" class=\"dataframe\">\n",
              "  <thead>\n",
              "    <tr style=\"text-align: right;\">\n",
              "      <th></th>\n",
              "      <th>Item</th>\n",
              "      <th>Item Quantity</th>\n",
              "      <th>Price/Item</th>\n",
              "      <th>Total</th>\n",
              "    </tr>\n",
              "  </thead>\n",
              "  <tbody>\n",
              "    <tr>\n",
              "      <th>1</th>\n",
              "      <td>fried chicken</td>\n",
              "      <td>2</td>\n",
              "      <td>20000</td>\n",
              "      <td>40000</td>\n",
              "    </tr>\n",
              "    <tr>\n",
              "      <th>2</th>\n",
              "      <td>pasta gigi</td>\n",
              "      <td>3</td>\n",
              "      <td>20000</td>\n",
              "      <td>60000</td>\n",
              "    </tr>\n",
              "  </tbody>\n",
              "</table>\n",
              "</div>\n",
              "      <button class=\"colab-df-convert\" onclick=\"convertToInteractive('df-0ca0574b-b16d-4373-a6cf-4db2c12c4256')\"\n",
              "              title=\"Convert this dataframe to an interactive table.\"\n",
              "              style=\"display:none;\">\n",
              "        \n",
              "  <svg xmlns=\"http://www.w3.org/2000/svg\" height=\"24px\"viewBox=\"0 0 24 24\"\n",
              "       width=\"24px\">\n",
              "    <path d=\"M0 0h24v24H0V0z\" fill=\"none\"/>\n",
              "    <path d=\"M18.56 5.44l.94 2.06.94-2.06 2.06-.94-2.06-.94-.94-2.06-.94 2.06-2.06.94zm-11 1L8.5 8.5l.94-2.06 2.06-.94-2.06-.94L8.5 2.5l-.94 2.06-2.06.94zm10 10l.94 2.06.94-2.06 2.06-.94-2.06-.94-.94-2.06-.94 2.06-2.06.94z\"/><path d=\"M17.41 7.96l-1.37-1.37c-.4-.4-.92-.59-1.43-.59-.52 0-1.04.2-1.43.59L10.3 9.45l-7.72 7.72c-.78.78-.78 2.05 0 2.83L4 21.41c.39.39.9.59 1.41.59.51 0 1.02-.2 1.41-.59l7.78-7.78 2.81-2.81c.8-.78.8-2.07 0-2.86zM5.41 20L4 18.59l7.72-7.72 1.47 1.35L5.41 20z\"/>\n",
              "  </svg>\n",
              "      </button>\n",
              "      \n",
              "  <style>\n",
              "    .colab-df-container {\n",
              "      display:flex;\n",
              "      flex-wrap:wrap;\n",
              "      gap: 12px;\n",
              "    }\n",
              "\n",
              "    .colab-df-convert {\n",
              "      background-color: #E8F0FE;\n",
              "      border: none;\n",
              "      border-radius: 50%;\n",
              "      cursor: pointer;\n",
              "      display: none;\n",
              "      fill: #1967D2;\n",
              "      height: 32px;\n",
              "      padding: 0 0 0 0;\n",
              "      width: 32px;\n",
              "    }\n",
              "\n",
              "    .colab-df-convert:hover {\n",
              "      background-color: #E2EBFA;\n",
              "      box-shadow: 0px 1px 2px rgba(60, 64, 67, 0.3), 0px 1px 3px 1px rgba(60, 64, 67, 0.15);\n",
              "      fill: #174EA6;\n",
              "    }\n",
              "\n",
              "    [theme=dark] .colab-df-convert {\n",
              "      background-color: #3B4455;\n",
              "      fill: #D2E3FC;\n",
              "    }\n",
              "\n",
              "    [theme=dark] .colab-df-convert:hover {\n",
              "      background-color: #434B5C;\n",
              "      box-shadow: 0px 1px 3px 1px rgba(0, 0, 0, 0.15);\n",
              "      filter: drop-shadow(0px 1px 2px rgba(0, 0, 0, 0.3));\n",
              "      fill: #FFFFFF;\n",
              "    }\n",
              "  </style>\n",
              "\n",
              "      <script>\n",
              "        const buttonEl =\n",
              "          document.querySelector('#df-0ca0574b-b16d-4373-a6cf-4db2c12c4256 button.colab-df-convert');\n",
              "        buttonEl.style.display =\n",
              "          google.colab.kernel.accessAllowed ? 'block' : 'none';\n",
              "\n",
              "        async function convertToInteractive(key) {\n",
              "          const element = document.querySelector('#df-0ca0574b-b16d-4373-a6cf-4db2c12c4256');\n",
              "          const dataTable =\n",
              "            await google.colab.kernel.invokeFunction('convertToInteractive',\n",
              "                                                     [key], {});\n",
              "          if (!dataTable) return;\n",
              "\n",
              "          const docLinkHtml = 'Like what you see? Visit the ' +\n",
              "            '<a target=\"_blank\" href=https://colab.research.google.com/notebooks/data_table.ipynb>data table notebook</a>'\n",
              "            + ' to learn more about interactive tables.';\n",
              "          element.innerHTML = '';\n",
              "          dataTable['output_type'] = 'display_data';\n",
              "          await google.colab.output.renderOutput(dataTable, element);\n",
              "          const docLink = document.createElement('div');\n",
              "          docLink.innerHTML = docLinkHtml;\n",
              "          element.appendChild(docLink);\n",
              "        }\n",
              "      </script>\n",
              "    </div>\n",
              "  </div>\n",
              "  "
            ]
          },
          "metadata": {},
          "execution_count": 5
        }
      ]
    },
    {
      "cell_type": "code",
      "source": [
        "purchase.delete_item('Pasta gigi')\n",
        "purchase.check_order()"
      ],
      "metadata": {
        "colab": {
          "base_uri": "https://localhost:8080/",
          "height": 115
        },
        "id": "Y_KDyacGIdbC",
        "outputId": "d453df37-341a-4b1c-f612-ca867370ddfe"
      },
      "execution_count": null,
      "outputs": [
        {
          "output_type": "stream",
          "name": "stdout",
          "text": [
            "Item pasta gigi has been removed from shopping cart\n",
            "All data entries are correct\n"
          ]
        },
        {
          "output_type": "execute_result",
          "data": {
            "text/plain": [
              "            Item  Item Quantity  Price/Item  Total\n",
              "1  fried chicken              2       20000  40000"
            ],
            "text/html": [
              "\n",
              "  <div id=\"df-ad1e6774-7917-4fe7-9ad6-a7370402868e\">\n",
              "    <div class=\"colab-df-container\">\n",
              "      <div>\n",
              "<style scoped>\n",
              "    .dataframe tbody tr th:only-of-type {\n",
              "        vertical-align: middle;\n",
              "    }\n",
              "\n",
              "    .dataframe tbody tr th {\n",
              "        vertical-align: top;\n",
              "    }\n",
              "\n",
              "    .dataframe thead th {\n",
              "        text-align: right;\n",
              "    }\n",
              "</style>\n",
              "<table border=\"1\" class=\"dataframe\">\n",
              "  <thead>\n",
              "    <tr style=\"text-align: right;\">\n",
              "      <th></th>\n",
              "      <th>Item</th>\n",
              "      <th>Item Quantity</th>\n",
              "      <th>Price/Item</th>\n",
              "      <th>Total</th>\n",
              "    </tr>\n",
              "  </thead>\n",
              "  <tbody>\n",
              "    <tr>\n",
              "      <th>1</th>\n",
              "      <td>fried chicken</td>\n",
              "      <td>2</td>\n",
              "      <td>20000</td>\n",
              "      <td>40000</td>\n",
              "    </tr>\n",
              "  </tbody>\n",
              "</table>\n",
              "</div>\n",
              "      <button class=\"colab-df-convert\" onclick=\"convertToInteractive('df-ad1e6774-7917-4fe7-9ad6-a7370402868e')\"\n",
              "              title=\"Convert this dataframe to an interactive table.\"\n",
              "              style=\"display:none;\">\n",
              "        \n",
              "  <svg xmlns=\"http://www.w3.org/2000/svg\" height=\"24px\"viewBox=\"0 0 24 24\"\n",
              "       width=\"24px\">\n",
              "    <path d=\"M0 0h24v24H0V0z\" fill=\"none\"/>\n",
              "    <path d=\"M18.56 5.44l.94 2.06.94-2.06 2.06-.94-2.06-.94-.94-2.06-.94 2.06-2.06.94zm-11 1L8.5 8.5l.94-2.06 2.06-.94-2.06-.94L8.5 2.5l-.94 2.06-2.06.94zm10 10l.94 2.06.94-2.06 2.06-.94-2.06-.94-.94-2.06-.94 2.06-2.06.94z\"/><path d=\"M17.41 7.96l-1.37-1.37c-.4-.4-.92-.59-1.43-.59-.52 0-1.04.2-1.43.59L10.3 9.45l-7.72 7.72c-.78.78-.78 2.05 0 2.83L4 21.41c.39.39.9.59 1.41.59.51 0 1.02-.2 1.41-.59l7.78-7.78 2.81-2.81c.8-.78.8-2.07 0-2.86zM5.41 20L4 18.59l7.72-7.72 1.47 1.35L5.41 20z\"/>\n",
              "  </svg>\n",
              "      </button>\n",
              "      \n",
              "  <style>\n",
              "    .colab-df-container {\n",
              "      display:flex;\n",
              "      flex-wrap:wrap;\n",
              "      gap: 12px;\n",
              "    }\n",
              "\n",
              "    .colab-df-convert {\n",
              "      background-color: #E8F0FE;\n",
              "      border: none;\n",
              "      border-radius: 50%;\n",
              "      cursor: pointer;\n",
              "      display: none;\n",
              "      fill: #1967D2;\n",
              "      height: 32px;\n",
              "      padding: 0 0 0 0;\n",
              "      width: 32px;\n",
              "    }\n",
              "\n",
              "    .colab-df-convert:hover {\n",
              "      background-color: #E2EBFA;\n",
              "      box-shadow: 0px 1px 2px rgba(60, 64, 67, 0.3), 0px 1px 3px 1px rgba(60, 64, 67, 0.15);\n",
              "      fill: #174EA6;\n",
              "    }\n",
              "\n",
              "    [theme=dark] .colab-df-convert {\n",
              "      background-color: #3B4455;\n",
              "      fill: #D2E3FC;\n",
              "    }\n",
              "\n",
              "    [theme=dark] .colab-df-convert:hover {\n",
              "      background-color: #434B5C;\n",
              "      box-shadow: 0px 1px 3px 1px rgba(0, 0, 0, 0.15);\n",
              "      filter: drop-shadow(0px 1px 2px rgba(0, 0, 0, 0.3));\n",
              "      fill: #FFFFFF;\n",
              "    }\n",
              "  </style>\n",
              "\n",
              "      <script>\n",
              "        const buttonEl =\n",
              "          document.querySelector('#df-ad1e6774-7917-4fe7-9ad6-a7370402868e button.colab-df-convert');\n",
              "        buttonEl.style.display =\n",
              "          google.colab.kernel.accessAllowed ? 'block' : 'none';\n",
              "\n",
              "        async function convertToInteractive(key) {\n",
              "          const element = document.querySelector('#df-ad1e6774-7917-4fe7-9ad6-a7370402868e');\n",
              "          const dataTable =\n",
              "            await google.colab.kernel.invokeFunction('convertToInteractive',\n",
              "                                                     [key], {});\n",
              "          if (!dataTable) return;\n",
              "\n",
              "          const docLinkHtml = 'Like what you see? Visit the ' +\n",
              "            '<a target=\"_blank\" href=https://colab.research.google.com/notebooks/data_table.ipynb>data table notebook</a>'\n",
              "            + ' to learn more about interactive tables.';\n",
              "          element.innerHTML = '';\n",
              "          dataTable['output_type'] = 'display_data';\n",
              "          await google.colab.output.renderOutput(dataTable, element);\n",
              "          const docLink = document.createElement('div');\n",
              "          docLink.innerHTML = docLinkHtml;\n",
              "          element.appendChild(docLink);\n",
              "        }\n",
              "      </script>\n",
              "    </div>\n",
              "  </div>\n",
              "  "
            ]
          },
          "metadata": {},
          "execution_count": 83
        }
      ]
    },
    {
      "cell_type": "code",
      "source": [
        "purchase.reset_transaction()\n"
      ],
      "metadata": {
        "colab": {
          "base_uri": "https://localhost:8080/"
        },
        "id": "VyuWcEQyK2ot",
        "outputId": "6ced0856-37f6-4f85-8533-d127d0bff84e"
      },
      "execution_count": null,
      "outputs": [
        {
          "output_type": "stream",
          "name": "stdout",
          "text": [
            "Your shopping cart is empty !\n"
          ]
        }
      ]
    },
    {
      "cell_type": "code",
      "source": [
        "purchase.add_item('Ayam goreng', 2, 20_000)\n",
        "purchase.add_item('Pasta gigi', 3, 15_000)\n",
        "purchase.add_item('Mainan mobil', 1, 200_000)\n",
        "purchase.add_item('Mi instan', 5, 3_000)\n",
        "purchase.total_price()"
      ],
      "metadata": {
        "colab": {
          "base_uri": "https://localhost:8080/"
        },
        "id": "vfyiAYzqLNg5",
        "outputId": "d5230519-fd56-420f-e46a-b4cf81e5ca9e"
      },
      "execution_count": null,
      "outputs": [
        {
          "output_type": "stream",
          "name": "stdout",
          "text": [
            "Your order summary: \n",
            " {'ayam goreng': [2, 20000], 'pasta gigi': [3, 15000]}\n",
            "Your order summary: \n",
            " {'ayam goreng': [2, 20000], 'pasta gigi': [3, 15000]}\n",
            "Your order summary: \n",
            " {'ayam goreng': [2, 20000], 'pasta gigi': [3, 15000], 'mainan mobil': [1, 200000]}\n",
            "Your order summary: \n",
            " {'ayam goreng': [2, 20000], 'pasta gigi': [3, 15000], 'mainan mobil': [1, 200000], 'mi instan': [5, 3000]}\n",
            "Here is your total amount of payment: Rp 285043.0\n"
          ]
        }
      ]
    },
    {
      "cell_type": "code",
      "source": [
        "purchase.add_item('Ayam goreng', 2, 20_000)\n",
        "purchase.add_item('Pasta gigi', 3, 15_000)\n",
        "purchase.delete_item('Pasta gigi')\n",
        "purchase.reset_transaction()\n",
        "purchase.add_item('Ayam goreng', 2, 20_000)\n",
        "purchase.add_item('Pasta gigi', 3, 15_000)\n",
        "purchase.add_item('Mainan mobil', 1, 200_000)\n",
        "purchase.add_item('Mi instan', 5, 3_000)\n",
        "purchase.total_price()\n",
        "purchase.check_order()"
      ],
      "metadata": {
        "id": "3surUkx_DjAb"
      },
      "execution_count": null,
      "outputs": []
    },
    {
      "cell_type": "code",
      "source": [
        "purchase.delete_item('sapu')\n",
        "purchase.order_summary()"
      ],
      "metadata": {
        "colab": {
          "base_uri": "https://localhost:8080/"
        },
        "id": "WgmNlxCG6o5R",
        "outputId": "16ce3a0a-fd10-4396-8a25-c5a28d214d68"
      },
      "execution_count": null,
      "outputs": [
        {
          "output_type": "stream",
          "name": "stdout",
          "text": [
            "Item sapu has been removed from shopping cart\n",
            "Your order summary: \n",
            " {'odol': [1, 100000]}\n"
          ]
        }
      ]
    },
    {
      "cell_type": "code",
      "source": [
        "purchase.update_item_name('odol', 'HP')\n",
        "purchase.cetak_order()\n"
      ],
      "metadata": {
        "colab": {
          "base_uri": "https://localhost:8080/"
        },
        "id": "3SaYdByp6o2Z",
        "outputId": "9c2b0852-9c9f-4ed7-b550-9eed1c3d8827"
      },
      "execution_count": null,
      "outputs": [
        {
          "output_type": "stream",
          "name": "stdout",
          "text": [
            "{'HP': [1, 100000]}\n",
            "{'HP': [1, 100000], 'sapu': [2, 40000]}\n"
          ]
        }
      ]
    },
    {
      "cell_type": "code",
      "source": [
        "purchase.total_price()"
      ],
      "metadata": {
        "colab": {
          "base_uri": "https://localhost:8080/"
        },
        "id": "8cHdXPygGvLf",
        "outputId": "fcf0a0d8-559a-4e70-c9e0-bd21505480ea"
      },
      "execution_count": null,
      "outputs": [
        {
          "output_type": "stream",
          "name": "stdout",
          "text": [
            "Your summary order:\n",
            "Total bill = 180000\n"
          ]
        }
      ]
    },
    {
      "cell_type": "code",
      "source": [
        "purchase.check_order()"
      ],
      "metadata": {
        "colab": {
          "base_uri": "https://localhost:8080/"
        },
        "id": "EZyIVEogEHSH",
        "outputId": "19cf8399-073f-41ab-995a-d6433302e5e1"
      },
      "execution_count": null,
      "outputs": [
        {
          "output_type": "stream",
          "name": "stdout",
          "text": [
            "{'HP': [2, 1000]}\n",
            "{'HP': [2, 1000], 'sapu': [2, 14000]}\n"
          ]
        }
      ]
    },
    {
      "cell_type": "code",
      "source": [
        "purchase.update_item_price('sapu', 9000)"
      ],
      "metadata": {
        "id": "olTqxGmAGbac"
      },
      "execution_count": null,
      "outputs": []
    },
    {
      "cell_type": "code",
      "source": [
        "purchase.check_order()"
      ],
      "metadata": {
        "colab": {
          "base_uri": "https://localhost:8080/"
        },
        "id": "7-yisG6PGgOA",
        "outputId": "2d835d41-30ae-4407-e6bf-8f0498912abb"
      },
      "execution_count": null,
      "outputs": [
        {
          "output_type": "stream",
          "name": "stdout",
          "text": [
            "{'HP': [2, 1000]}\n",
            "{'HP': [2, 1000], 'sapu': [2, 9000]}\n"
          ]
        }
      ]
    },
    {
      "cell_type": "code",
      "source": [
        "purchase.delete_item('HP')"
      ],
      "metadata": {
        "id": "22yokqVCHttv"
      },
      "execution_count": null,
      "outputs": []
    },
    {
      "cell_type": "code",
      "source": [
        "purchase.check_order()"
      ],
      "metadata": {
        "colab": {
          "base_uri": "https://localhost:8080/"
        },
        "id": "YPNpdCyQJvls",
        "outputId": "4105577e-c848-47cb-96b2-6f52f6ca045c"
      },
      "execution_count": null,
      "outputs": [
        {
          "output_type": "stream",
          "name": "stdout",
          "text": [
            "{'sapu': [2, 1000]}\n"
          ]
        }
      ]
    },
    {
      "cell_type": "code",
      "source": [
        "purchase.reset_transaction()"
      ],
      "metadata": {
        "colab": {
          "base_uri": "https://localhost:8080/"
        },
        "id": "DaRh5SjTKWOn",
        "outputId": "5bbc0a80-2353-4eff-9d5c-9bb0616b1d84"
      },
      "execution_count": null,
      "outputs": [
        {
          "output_type": "stream",
          "name": "stdout",
          "text": [
            "Your shopping cart is empty !\n"
          ]
        }
      ]
    },
    {
      "cell_type": "code",
      "source": [
        "purchase.check_order()"
      ],
      "metadata": {
        "id": "5kutqSNFKi02"
      },
      "execution_count": null,
      "outputs": []
    },
    {
      "cell_type": "code",
      "source": [
        "total_harga = 200000\n",
        "if total_harga > 200000:\n",
        "  total_harga = total_harga * 0.95\n",
        "elif total_harga > 300000:\n",
        "  total_harga = total_harga * 0.92\n",
        "elif total_harga > 500000:\n",
        "  total_harga = total_harga * 0.9\n",
        "else:\n",
        "  total_harga\n",
        "\n",
        "print(total_harga)"
      ],
      "metadata": {
        "colab": {
          "base_uri": "https://localhost:8080/"
        },
        "id": "bRyNe321RE6d",
        "outputId": "db2f1c9f-43d1-4447-ad0f-1c9e0ed69c86"
      },
      "execution_count": null,
      "outputs": [
        {
          "output_type": "stream",
          "name": "stdout",
          "text": [
            "200000\n"
          ]
        }
      ]
    },
    {
      "cell_type": "code",
      "source": [
        "#CARA 2\n",
        "@dataclass\n",
        "class Transaction():\n",
        "  '''\n",
        "  Class Transaction berisi menu-menu untuk menjalankan\n",
        "  sistem kasir pada Online Supermarket\n",
        "  '''\n",
        "\n",
        "\n",
        "  def __init__(self):\n",
        "    self.item_name = list()\n",
        "    self.item_qty = list()\n",
        "    self.item_price = list()\n",
        "\n",
        "#Menambahkan item pada shopping cart\n",
        "  def add_item(self, nama, jumlah, harga):\n",
        "    self.item_name.append(nama)\n",
        "    self.item_qty.append(jumlah)\n",
        "    self.item_price.append(harga)\n",
        "\n",
        "#Mengupdate nama item\n",
        "  def update_item_name(self, current_name, new_name):\n",
        "    self.current_name = current_name\n",
        "    self.new_name = new_name\n",
        "    for i, item in enumerate(self.item_name):\n",
        "      if item == self.current_name:\n",
        "        self.item_name[i] = self.new_name\n",
        "\n",
        "#Menampilkan item apa saja yang ada pada shopping cart\n",
        "  def check_order(self):\n",
        "    basket = dict()\n",
        "    for i in range(len(self.item_name)):\n",
        "      basket[self.item_name[i]] = [self.item_qty[i], self.item_price[i]]\n",
        "      print(basket)\n",
        "\n",
        "#Menampilkan TABEL (ujicoba)\n",
        "    #def check_order_tabel(self):\n",
        "      #try:\n",
        "        #basket = dict()\n",
        "        #for i in range(len(self.item_name)):\n",
        "          #basket[self.item_name[i]] = [self.item_qty[i], self.item_price[i]]\n",
        "          #print(basket)\n",
        "      #except ValueError:\n",
        "        #print('Terdapat kesalahan input data')\n",
        "\n",
        "#Mengupdate item quantity pada shopping cart\n",
        "  def update_item_qty(self, current_name, new_qty):\n",
        "    self.current_name = current_name\n",
        "    self.new_qty = new_qty\n",
        "    for i, item in enumerate(self.item_name):\n",
        "      if item == self.current_name:\n",
        "        self.item_qty[i] = self.new_qty\n",
        "\n",
        "#Mengupdate item price pada shopping cart\n",
        "  def update_item_price(self, current_name, new_price):\n",
        "    self.current_name = current_name\n",
        "    self.new_price = new_price\n",
        "    for i, item in enumerate(self.item_name):\n",
        "      if item == self.current_name:\n",
        "        self.item_price[i] = self.new_price\n",
        "\n",
        "#Menghapus certain item pada cart\n",
        "  def delete_item(self, remove_key):\n",
        "    self.remove_key = remove_key\n",
        "    for i, item in enumerate(self.item_name):\n",
        "      if item == self.remove_key:\n",
        "        self.item_name.pop(i)\n",
        "\n",
        "#Menghapus semua item pada cart\n",
        "  def reset_transaction(self):\n",
        "    self.item_name.clear()\n",
        "    self.item_qty.clear()\n",
        "    self.item_price.clear()\n",
        "    print('Your shopping cart is empty !')\n",
        "\n",
        "#Perhitungan total belanja\n",
        "  def total_price(self):\n",
        "    total_bill = 0\n",
        "    for i in range(len(self.item_name)):\n",
        "      total_bill += self.item_price[i] * self.item_qty[i]\n",
        "    if total_bill > 200000:\n",
        "      total_bill = total_bill * 0.95\n",
        "    elif total_bill > 300000:\n",
        "      total_bill = total_bill * 0.92\n",
        "    elif total_bill > 500000:\n",
        "      total_bill = total_bill * 0.9\n",
        "    else:\n",
        "      total_bill\n",
        "    print(f'Your summary order:')\n",
        "    print(f'Total bill = {total_bill}')\n"
      ],
      "metadata": {
        "id": "XQmNR4MP1M-B"
      },
      "execution_count": null,
      "outputs": []
    },
    {
      "cell_type": "code",
      "source": [
        "#contoh bikin tabel\n",
        "\n",
        "import pandas as pd\n",
        "\n",
        "a = {'nama':['Faiq', 'Azmi', 'Nurfaizi'], 'umur':[20, 25, 30]}\n",
        "\n",
        "df = pd.DataFrame(a)\n",
        "df.index = df.index + 1\n",
        "df"
      ],
      "metadata": {
        "id": "QCinmFpPIad3"
      },
      "execution_count": null,
      "outputs": []
    },
    {
      "cell_type": "code",
      "source": [
        "num = input (\"Enter number :\")\n",
        "print(num)"
      ],
      "metadata": {
        "colab": {
          "base_uri": "https://localhost:8080/"
        },
        "id": "wES3jqxqf-HR",
        "outputId": "4656cb7b-1c5b-45e4-adf7-75f214495171"
      },
      "execution_count": null,
      "outputs": [
        {
          "output_type": "stream",
          "name": "stdout",
          "text": [
            "Enter number :2\n",
            "2\n"
          ]
        }
      ]
    }
  ]
}